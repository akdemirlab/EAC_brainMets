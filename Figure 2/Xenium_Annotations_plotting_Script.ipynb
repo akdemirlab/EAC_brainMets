{
 "cells": [
  {
   "cell_type": "code",
   "execution_count": 1,
   "id": "fecf9dc0",
   "metadata": {},
   "outputs": [],
   "source": [
    "import scanpy as sc\n",
    "import pandas as pd\n",
    "import numpy as np\n",
    "import decoupler as dc\n",
    "import os\n",
    "import gseapy\n",
    "import matplotlib.pyplot as plt\n",
    "import squidpy as sq\n",
    "import pickle"
   ]
  },
  {
   "cell_type": "code",
   "execution_count": 9,
   "id": "53fbe74d",
   "metadata": {},
   "outputs": [],
   "source": [
    "def merge_adata(adata, merge_dict):\n",
    "    adata.obs['merge_cluster'] = adata.obs['leiden'].map(merge_dict)\n",
    "    sc.tl.rank_genes_groups(\n",
    "        adata, groupby=\"merge_cluster\", method=\"wilcoxon\", key_added=\"wilcoxon_merged\")\n",
    "    sc.tl.filter_rank_genes_groups(\n",
    "        adata,\n",
    "        key=\"wilcoxon_merged\",\n",
    "        key_added=\"wilcoxon_merged_filtered\")\n",
    "    # plot\n",
    "    sc.pl.rank_genes_groups_dotplot(adata, key = 'wilcoxon_merged_filtered',\n",
    "                                standard_scale=\"var\", n_genes=6, show=False)\n",
    "    sc.pl.rank_genes_groups_dotplot(adata, key = 'wilcoxon_merged',\n",
    "                                standard_scale=\"var\", n_genes=6, show=False)\n",
    "    sc.pl.umap(adata, color = 'merge_cluster')\n",
    "    sq.pl.spatial_scatter(adata, \n",
    "              shape = None, \n",
    "              color=['merge_cluster'],\n",
    "              wspace = 0.1)\n",
    "    \n",
    "    return adata\n",
    "    \n",
    "def final_plot(adata, cell_type_dict, genemarkers, sample):\n",
    "    adata.obs['group'] = adata.obs['merge_cluster'].map(cell_type_dict)\n",
    "    adata.obs['group'] = adata.obs['group'].astype('category').cat.set_categories(list(genemarkers.keys()))\n",
    "    \n",
    "    sc.pl.dotplot(adata, var_names=genemarkers, groupby = 'group', \n",
    "                        standard_scale=\"var\", show=False)\n",
    "    sc.pl.umap(adata, color='group', show=False, title = sample)\n",
    "\n",
    "    sq.pl.spatial_scatter(adata, \n",
    "          shape = None, \n",
    "          color=['group'],\n",
    "          wspace = 0.1, title = sample)\n",
    "    \n",
    "\n",
    "def get_top_genes(adata):\n",
    "    tmp_rank_df = sc.get.rank_genes_groups_df(adata, group=adata.obs.merge_cluster.unique(), key= 'wilcoxon_merged_filtered')\n",
    "    tmp_rank_df = tmp_rank_df[~tmp_rank_df.names.isna()].groupby('group').apply(lambda x: x.nlargest(6, 'scores')) \n",
    "    return tmp_rank_df \n",
    "    "
   ]
  },
  {
   "cell_type": "code",
   "execution_count": null,
   "id": "5b6bb0ad",
   "metadata": {},
   "outputs": [],
   "source": [
    "SAMPLE_ID_merge = {\n",
    "    '0':'0',\n",
    "    '1':'0',\n",
    "    '2':'0',\n",
    "    '3':'0',\n",
    "    '4':'1',\n",
    "    '5':'2',\n",
    "    '6':'0',\n",
    "    '7':'0',\n",
    "\n",
    "}\n",
    "\n",
    "with open('/SAMPLE_ID_.pkl', \n",
    "          'rb') as f:\n",
    "    sdata_primary = pickle.load(f)   \n",
    "sdata_primary = merge_adata(sdata_primary, SAMPLE_ID_merge)"
   ]
  },
  {
   "cell_type": "code",
   "execution_count": null,
   "id": "6e945856",
   "metadata": {},
   "outputs": [],
   "source": [
    "SAMPLE_ID_cell_type = {\n",
    "    '0':'Malignant',\n",
    "    '2':'Macrophage',\n",
    "    '1': 'Fibroblast',\n",
    "}\n",
    "SAMPLE_ID_markers = {\n",
    "    'Malignant':['EPCAM', 'EGFR', 'ERBB2', 'ERBB3'],\n",
    "    'Macrophage':['APOE','MPEG1', 'CD163'],\n",
    "    'Fibroblast':['PLVAP', 'RGS5', 'DCN', 'SPARC'], \n",
    "    \n",
    "}\n",
    "final_plot(sdata_primary, SAMPLE_ID_cell_type, SAMPLE_ID_markers, 'SAMPLE_ID')"
   ]
  }
 ],
 "metadata": {
  "kernelspec": {
   "display_name": "Python 3 (ipykernel)",
   "language": "python",
   "name": "python3"
  },
  "language_info": {
   "codemirror_mode": {
    "name": "ipython",
    "version": 3
   },
   "file_extension": ".py",
   "mimetype": "text/x-python",
   "name": "python",
   "nbconvert_exporter": "python",
   "pygments_lexer": "ipython3",
   "version": "3.10.9"
  }
 },
 "nbformat": 4,
 "nbformat_minor": 5
}
